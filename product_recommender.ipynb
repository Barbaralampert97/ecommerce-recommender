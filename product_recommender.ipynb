{
 "cells": [
  {
   "cell_type": "markdown",
   "id": "514c22c1",
   "metadata": {},
   "source": [
    "Carregar Pacotes e Bibliotecas:"
   ]
  },
  {
   "cell_type": "code",
   "execution_count": 11,
   "id": "4ebcf576",
   "metadata": {},
   "outputs": [],
   "source": [
    "import pandas as pd\n",
    "import numpy as np\n",
    "import matplotlib.pyplot as plt\n",
    "import seaborn as sns\n",
    "from faker import Faker\n",
    "import random\n",
    "\n",
    "from sklearn.metrics.pairwise import cosine_similarity\n",
    "from sklearn.feature_extraction.text import TfidfVectorizer\n",
    "\n",
    "import os\n",
    "from scipy.sparse import coo_matrix"
   ]
  },
  {
   "cell_type": "markdown",
   "id": "253ef47f",
   "metadata": {},
   "source": [
    "# Separação  e criação das tabelas"
   ]
  },
  {
   "cell_type": "code",
   "execution_count": 12,
   "id": "5a97f9dc",
   "metadata": {},
   "outputs": [],
   "source": [
    "# 1. Ler dataset original\n",
    "\n",
    "data = pd.read_csv(\"clean_data.csv\")  "
   ]
  },
  {
   "cell_type": "code",
   "execution_count": 14,
   "id": "b9aebfeb",
   "metadata": {},
   "outputs": [],
   "source": [
    "# 2. Criar arquivo de produtos únicos\n",
    "\n",
    "# Mantém apenas 1 linha por produto\n",
    "products = data.drop_duplicates(subset=\"ProdID\", keep=\"first\")"
   ]
  },
  {
   "cell_type": "code",
   "execution_count": 15,
   "id": "fddad0b0",
   "metadata": {},
   "outputs": [],
   "source": [
    "# Seleciona só as colunas de atributos do produto\n",
    "products = products[[\n",
    "    \"ProdID\", \"Name\", \"Category\", \"Brand\", \"Description\", \"Tags\", \"ReviewCount\", \"Rating\"\n",
    "]]"
   ]
  },
  {
   "cell_type": "code",
   "execution_count": 16,
   "id": "c2d9b6a7",
   "metadata": {},
   "outputs": [
    {
     "name": "stdout",
     "output_type": "stream",
     "text": [
      "✅ products.csv criado com 1607 produtos únicos.\n"
     ]
    }
   ],
   "source": [
    "products.to_csv(\"products.csv\", index=False)\n",
    "print(f\"✅ products.csv criado com {len(products)} produtos únicos.\")"
   ]
  },
  {
   "cell_type": "code",
   "execution_count": 18,
   "id": "544dbe7e",
   "metadata": {},
   "outputs": [
    {
     "name": "stdout",
     "output_type": "stream",
     "text": [
      "✅ interactions.csv criado com 4090 interações.\n"
     ]
    }
   ],
   "source": [
    "# Criar arquivo de interações (cliente-produto)\n",
    "\n",
    "interactions = data[[\"ID\", \"ProdID\", \"Rating\"]].rename(columns={\"ID\": \"CustomerID\"})\n",
    "interactions.to_csv(\"interactions.csv\", index=False)\n",
    "print(f\"✅ interactions.csv criado com {len(interactions)} interações.\")\n"
   ]
  },
  {
   "cell_type": "code",
   "execution_count": 19,
   "id": "1fa2c40e",
   "metadata": {},
   "outputs": [
    {
     "name": "stdout",
     "output_type": "stream",
     "text": [
      "✅ customers.csv criado com 1666 clientes fictícios.\n"
     ]
    }
   ],
   "source": [
    "#Criar arquivo de clientes fictícios\n",
    "# =======================\n",
    "fake = Faker('pt_BR')\n",
    "\n",
    "customers = []\n",
    "customer_ids = interactions[\"CustomerID\"].unique()  # pega todos os IDs que aparecem\n",
    "\n",
    "for cid in customer_ids:\n",
    "    customers.append({\n",
    "        \"CustomerID\": cid,\n",
    "        \"Name\": fake.first_name(),\n",
    "        \"Age\": random.randint(18, 60),\n",
    "        \"Gender\": random.choice([\"M\", \"F\"]),\n",
    "        \"Location\": fake.city()\n",
    "    })\n",
    "\n",
    "df_customers = pd.DataFrame(customers)\n",
    "df_customers.to_csv(\"df_customers.csv\", index=False)\n",
    "print(f\"✅ customers.csv criado com {len(df_customers)} clientes fictícios.\")"
   ]
  },
  {
   "cell_type": "markdown",
   "id": "a4d010f4",
   "metadata": {},
   "source": [
    "Verificação e validação dos dados:"
   ]
  },
  {
   "cell_type": "code",
   "execution_count": null,
   "id": "1045bf36",
   "metadata": {},
   "outputs": [
    {
     "name": "stdout",
     "output_type": "stream",
     "text": [
      "Total de linhas: 1607\n",
      "ProdIDs únicos: 1607\n"
     ]
    }
   ],
   "source": [
    "# Conferimos se cada ProdID aparece uma vez só:\n",
    "\n",
    "print(\"Total de linhas:\", len(products))\n",
    "print(\"ProdIDs únicos:\", products['ProdID'].nunique())\n"
   ]
  },
  {
   "cell_type": "code",
   "execution_count": 25,
   "id": "4adeb575",
   "metadata": {},
   "outputs": [
    {
     "name": "stdout",
     "output_type": "stream",
     "text": [
      "   CustomerID  ProdID  Rating\n",
      "0  1705736792       2     0.0\n",
      "1          95      76     0.0\n",
      "2           8       8     4.5\n",
      "3           4       3     0.0\n",
      "4         990       3     0.0\n",
      "Total de interações: 4090\n",
      "Clientes únicos: 1666\n",
      "Produtos únicos: 1607\n"
     ]
    }
   ],
   "source": [
    "# Conferimos total de linhas e quantidade de clientes/produtos únicos:\n",
    "print(interactions.head())  # primeiras linhas\n",
    "\n",
    "print(\"Total de interações:\", len(interactions))\n",
    "print(\"Clientes únicos:\", interactions['CustomerID'].nunique())\n",
    "print(\"Produtos únicos:\", interactions['ProdID'].nunique())\n"
   ]
  },
  {
   "cell_type": "code",
   "execution_count": null,
   "id": "45d4415f",
   "metadata": {},
   "outputs": [
    {
     "name": "stdout",
     "output_type": "stream",
     "text": [
      "Total de clientes: 1666\n",
      "IDs únicos: 1666\n"
     ]
    }
   ],
   "source": [
    "# Conferimos se cada cliente é único:\n",
    "print(\"Total de clientes:\", len(df_customers))\n",
    "print(\"IDs únicos:\", df_customers['CustomerID'].nunique())\n"
   ]
  },
  {
   "cell_type": "code",
   "execution_count": 23,
   "id": "827c560a",
   "metadata": {},
   "outputs": [
    {
     "name": "stdout",
     "output_type": "stream",
     "text": [
      "Clientes que não estão no customers.csv: set()\n",
      "Produtos que não estão no products.csv: set()\n"
     ]
    }
   ],
   "source": [
    "# Verificar consistência entre interações e clientes\n",
    "clientes_invalidos = set(interactions['CustomerID']) - set(df_customers['CustomerID'])\n",
    "print(\"Clientes que não estão no customers.csv:\", clientes_invalidos)\n",
    "\n",
    "# Verificar consistência entre interações e produtos\n",
    "produtos_invalidos = set(interactions['ProdID']) - set(products['ProdID'])\n",
    "print(\"Produtos que não estão no products.csv:\", produtos_invalidos)\n"
   ]
  }
 ],
 "metadata": {
  "kernelspec": {
   "display_name": "venv",
   "language": "python",
   "name": "python3"
  },
  "language_info": {
   "codemirror_mode": {
    "name": "ipython",
    "version": 3
   },
   "file_extension": ".py",
   "mimetype": "text/x-python",
   "name": "python",
   "nbconvert_exporter": "python",
   "pygments_lexer": "ipython3",
   "version": "3.13.7"
  }
 },
 "nbformat": 4,
 "nbformat_minor": 5
}
